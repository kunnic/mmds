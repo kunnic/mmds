{
 "cells": [
  {
   "cell_type": "code",
   "execution_count": 24,
   "id": "6be9e9d8",
   "metadata": {},
   "outputs": [],
   "source": [
    "# ! apt-get install openjdk-8-jdk-headless -qq > /dev/null\n",
    "# ! wget -q https://archive.apache.org/dist/spark/spark-3.5.4/spark-3.5.4-bin-hadoop3.tgz\n",
    "# ! tar xf spark-3.5.4-bin-hadoop3.tgz\n",
    "# ! pip install -q findspark"
   ]
  },
  {
   "cell_type": "code",
   "execution_count": null,
   "id": "7896eca5",
   "metadata": {},
   "outputs": [],
   "source": [
    "import os\n",
    "from itertools import combinations\n",
    "\n",
    "import findspark\n",
    "os.environ[\"SPARK_HOME\"] = \"spark-3.5.4-bin-hadoop3\"\n",
    "findspark.init()\n",
    "\n",
    "import pyspark as spark\n",
    "from pyspark import SparkContext\n",
    "\n",
    "from pyspark.sql import (\n",
    "    SparkSession,\n",
    "    DataFrame,\n",
    "    functions as f\n",
    ")\n",
    "from pyspark.sql.functions import (\n",
    "    collect_list,\n",
    "    explode,\n",
    "    col,\n",
    "    size,\n",
    ")\n",
    "from pyspark.sql.types import (\n",
    "    ArrayType,\n",
    "    IntegerType,\n",
    "    StringType,\n",
    ")"
   ]
  },
  {
   "cell_type": "code",
   "execution_count": 54,
   "id": "a4422795",
   "metadata": {},
   "outputs": [],
   "source": [
    "spark = SparkSession \\\n",
    "        .builder \\\n",
    "        .appName(\"task02c\") \\\n",
    "        .getOrCreate()\n",
    "sc = spark.sparkContext\n",
    "spark.sparkContext.setLogLevel(\"ERROR\") "
   ]
  },
  {
   "cell_type": "code",
   "execution_count": 55,
   "id": "b1dafde9",
   "metadata": {},
   "outputs": [],
   "source": [
    "file_path = \"baskets.csv\"\n",
    "df = spark.read.csv(file_path, header=True, inferSchema=True)\n",
    "df = df.dropna()"
   ]
  },
  {
   "cell_type": "code",
   "execution_count": null,
   "id": "f9300fa8",
   "metadata": {},
   "outputs": [
    {
     "name": "stdout",
     "output_type": "stream",
     "text": [
      "+----+----------+--------------------+\n",
      "|  id|      date|           item_list|\n",
      "+----+----------+--------------------+\n",
      "|1038|04/10/2015|[other vegetables...|\n",
      "|1042|02/12/2015|     [beef, dessert]|\n",
      "|1081|02/11/2014| [beverages, yogurt]|\n",
      "|1182|21/01/2015| [beef, butter milk]|\n",
      "|1217|12/03/2014|[citrus fruit, gr...|\n",
      "|1233|04/07/2014|    [UHT-milk, curd]|\n",
      "|1263|19/10/2014|[frozen meals, bo...|\n",
      "|1294|07/05/2014|[hygiene articles...|\n",
      "|1305|24/05/2015|[citrus fruit, tr...|\n",
      "|1342|14/02/2014|[napkins, white b...|\n",
      "+----+----------+--------------------+\n",
      "only showing top 10 rows\n",
      "\n"
     ]
    }
   ],
   "source": [
    "basket_df = df.groupBy(\"Member_number\", \"Date\") \\\n",
    "              .agg(collect_list(\"itemDescription\"))\n",
    "\n",
    "basket_df = basket_df.toDF(\"id\", \"date\", \"item_list\")\n",
    "basket_df.show(10)"
   ]
  },
  {
   "cell_type": "code",
   "execution_count": 57,
   "id": "002597f1",
   "metadata": {},
   "outputs": [
    {
     "name": "stdout",
     "output_type": "stream",
     "text": [
      "\n",
      "--- Results from PCYModel ---\n",
      "Top 10 frequent pairs found:\n",
      "+----------------+----------+-------+\n",
      "|item1           |item2     |support|\n",
      "+----------------+----------+-------+\n",
      "|other vegetables|whole milk|243    |\n",
      "|rolls/buns      |whole milk|227    |\n",
      "|soda            |whole milk|199    |\n",
      "|whole milk      |yogurt    |183    |\n",
      "|other vegetables|rolls/buns|182    |\n",
      "|other vegetables|soda      |160    |\n",
      "|whole milk      |whole milk|148    |\n",
      "|sausage         |whole milk|147    |\n",
      "|tropical fruit  |whole milk|136    |\n",
      "|other vegetables|yogurt    |131    |\n",
      "+----------------+----------+-------+\n",
      "only showing top 10 rows\n",
      "\n",
      "Top 10 association rules found (ordered by confidence):\n",
      "+--------------+----------+-------+-------------------+\n",
      "|item1         |item2     |support|conf               |\n",
      "+--------------+----------+-------+-------------------+\n",
      "|bottled beer  |whole milk|113    |0.16448326055312956|\n",
      "|sausage       |whole milk|147    |0.1590909090909091 |\n",
      "|pip fruit     |whole milk|110    |0.1478494623655914 |\n",
      "|shopping bags |whole milk|107    |0.146374829001368  |\n",
      "|citrus fruit  |whole milk|114    |0.14039408866995073|\n",
      "|yogurt        |whole milk|183    |0.13718140929535233|\n",
      "|pastry        |whole milk|104    |0.13248407643312102|\n",
      "|rolls/buns    |whole milk|227    |0.13228438228438227|\n",
      "|tropical fruit|whole milk|136    |0.13178294573643412|\n",
      "|soda          |whole milk|199    |0.13143989431968295|\n",
      "+--------------+----------+-------+-------------------+\n",
      "only showing top 10 rows\n",
      "\n"
     ]
    }
   ],
   "source": [
    "from pcy import PCY, PCYModel\n",
    "\n",
    "pcy_analyzer = PCY(min_support=100, min_confidence=0.1)\n",
    "\n",
    "pcy_model = pcy_analyzer.fit(basket_df)\n",
    "\n",
    "print(\"\\n--- Results from PCYModel ---\")\n",
    "pcy_model.show_frequent_pairs(n=10)\n",
    "pcy_model.show_association_rules(n=10)"
   ]
  }
 ],
 "metadata": {
  "kernelspec": {
   "display_name": ".venv",
   "language": "python",
   "name": "python3"
  },
  "language_info": {
   "codemirror_mode": {
    "name": "ipython",
    "version": 3
   },
   "file_extension": ".py",
   "mimetype": "text/x-python",
   "name": "python",
   "nbconvert_exporter": "python",
   "pygments_lexer": "ipython3",
   "version": "3.12.3"
  }
 },
 "nbformat": 4,
 "nbformat_minor": 5
}
